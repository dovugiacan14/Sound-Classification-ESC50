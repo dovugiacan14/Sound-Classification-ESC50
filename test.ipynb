{
 "cells": [
  {
   "cell_type": "code",
   "execution_count": 1,
   "metadata": {},
   "outputs": [],
   "source": [
    "import os \n",
    "import config\n",
    "import numpy as np \n",
    "from helpers.data_processor import ESC_Dataset"
   ]
  },
  {
   "cell_type": "code",
   "execution_count": 2,
   "metadata": {},
   "outputs": [],
   "source": [
    "full_dataset = np.load(\n",
    "    os.path.join(\"ESC-50-master/\", \"esc-50-data.npy\"), allow_pickle=True\n",
    ")\n",
    "dataset = ESC_Dataset(\n",
    "    dataset = full_dataset,\n",
    "    config = config,\n",
    "    eval_mode = False\n",
    ")"
   ]
  },
  {
   "cell_type": "code",
   "execution_count": 11,
   "metadata": {},
   "outputs": [
    {
     "name": "stdout",
     "output_type": "stream",
     "text": [
      "<class 'numpy.ndarray'>\n",
      "(5, 400)\n",
      "{'name': np.str_('2-100786-A-1.wav'), 'target': 1, 'waveform': array([-6.1035156e-05, -6.1035156e-05, -6.1035156e-05, ...,\n",
      "        0.0000000e+00,  0.0000000e+00,  0.0000000e+00], dtype=float32)}\n"
     ]
    }
   ],
   "source": [
    "print(type(full_dataset))\n",
    "print(full_dataset.shape)\n",
    "print(full_dataset[1][1])"
   ]
  }
 ],
 "metadata": {
  "kernelspec": {
   "display_name": "audio",
   "language": "python",
   "name": "python3"
  },
  "language_info": {
   "codemirror_mode": {
    "name": "ipython",
    "version": 3
   },
   "file_extension": ".py",
   "mimetype": "text/x-python",
   "name": "python",
   "nbconvert_exporter": "python",
   "pygments_lexer": "ipython3",
   "version": "3.11.11"
  }
 },
 "nbformat": 4,
 "nbformat_minor": 2
}
